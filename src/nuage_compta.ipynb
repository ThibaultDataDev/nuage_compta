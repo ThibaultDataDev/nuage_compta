{
 "metadata": {
  "language_info": {
   "codemirror_mode": {
    "name": "ipython",
    "version": 3
   },
   "file_extension": ".py",
   "mimetype": "text/x-python",
   "name": "python",
   "nbconvert_exporter": "python",
   "pygments_lexer": "ipython3",
   "version": "3.8.5-final"
  },
  "orig_nbformat": 2,
  "kernelspec": {
   "name": "python3",
   "display_name": "Python 3"
  }
 },
 "nbformat": 4,
 "nbformat_minor": 2,
 "cells": [
  {
   "source": [
    "# Handwritten letters images recognition"
   ],
   "cell_type": "markdown",
   "metadata": {}
  },
  {
   "cell_type": "code",
   "execution_count": null,
   "metadata": {},
   "outputs": [],
   "source": [
    "#load libraries \n",
    "import pandas as pd\n",
    "import numpy as np\n",
    "import matplotlib.pyplot as plt\n",
    "%matplotlib inline\n",
    "import seaborn as sns\n",
    "sns.set(style=\"whitegrid\")\n",
    "import os\n",
    "import glob as gb\n",
    "import cv2\n",
    "import tensorflow as tf\n",
    "import keras\n",
    "import spliting"
   ]
  },
  {
   "source": [
    "## 1. Data processing \n"
   ],
   "cell_type": "markdown",
   "metadata": {}
  },
  {
   "cell_type": "code",
   "execution_count": null,
   "metadata": {},
   "outputs": [],
   "source": [
    "# Spliting images from dataset to train and test folder \n",
    "\n",
    "spliting.img_split_train_test('../alphabet-dataset/', 0.6)\n"
   ]
  },
  {
   "cell_type": "code",
   "execution_count": null,
   "metadata": {},
   "outputs": [],
   "source": [
    "train_path = \"../data/train/\"\n",
    "test_path = \"../data/test/\"\n",
    "pred_path =\"../data/predict/\"\n",
    "\n",
    "# check Train and Test folder\n",
    "for folder in os.listdir(train_path):\n",
    "    files = gb.glob(pathname= str(train_path + folder + '/*.png'))\n",
    "    print(F' For training data found : {len (files)} in folder {folder}')\n"
   ]
  },
  {
   "cell_type": "code",
   "execution_count": null,
   "metadata": {},
   "outputs": [],
   "source": [
    "for folder in os.listdir(test_path):\n",
    "    files = gb.glob(pathname= str(test_path + folder + '/*.png'))\n",
    "    print(F' For training data found : {len (files)} in folder {folder}')"
   ]
  },
  {
   "cell_type": "code",
   "execution_count": null,
   "metadata": {},
   "outputs": [],
   "source": [
    "# \n",
    "categories = {\"A\":0, \"B\":1, \"C\":2, \"D\":3, \"E\":4, \"F\":5, \"G\":6, \"H\":7, \"I\":8, \"J\":9, \"K\":10, \"L\":11, \"M\":12, \"N\":13, \"O\":14, \"P\":15, \"Q\":16, \"R\":17, \"S\":18, \"T\":19, \"U\":20, \"V\":21, \"W\":22, \"X\":23, \"Y\":24, \"Z\":25}\n",
    "\n",
    "def get_letter(n):\n",
    "    for x, y in categories.items():\n",
    "        if n == y:\n",
    "            return x\n",
    "print(get_letter(24))"
   ]
  },
  {
   "source": [
    "## . Reading Images"
   ],
   "cell_type": "markdown",
   "metadata": {}
  },
  {
   "cell_type": "code",
   "execution_count": null,
   "metadata": {},
   "outputs": [],
   "source": [
    "\n",
    "# Display 10 images for F letter  with plot imshow\n",
    "for category in categories.keys():\n",
    "    if category =='F': \n",
    "        path = os.path.join(train_path,category)  \n",
    "        x=0\n",
    "        for img in os.listdir(path):  \n",
    "            print(img)\n",
    "            x+=1\n",
    "            img_array = cv2.imread(os.path.join(path,img) ,cv2.IMREAD_GRAYSCALE) \n",
    "            plt.imshow(img_array, cmap='gray')\n",
    "            plt.show()  \n",
    "            if x==10 : \n",
    "                break"
   ]
  },
  {
   "cell_type": "code",
   "execution_count": null,
   "metadata": {},
   "outputs": [],
   "source": [
    "# Read all images in train folder and convert it into array for 26 categories\n",
    "X_train =[]\n",
    "y_train =[]\n",
    "for folder in os.listdir(train_path):\n",
    "    images = gb.glob(pathname= str(train_path + folder + '/*.png'))\n",
    "    for img in images:\n",
    "        image = cv2.imread(img, cv2.IMREAD_GRAYSCALE)\n",
    "        X_train.append(list(image))\n",
    "        y_train.append(categories[folder])\n",
    "\n"
   ]
  },
  {
   "cell_type": "code",
   "execution_count": null,
   "metadata": {},
   "outputs": [],
   "source": [
    "print(f\"we have  {len(X_train)} items in X_train\" )"
   ]
  },
  {
   "cell_type": "code",
   "execution_count": null,
   "metadata": {},
   "outputs": [],
   "source": [
    "# Display random images in X_train  using y value for title\n",
    "plt.figure(figsize=(20,20))\n",
    "for n , i in enumerate(list(np.random.randint(0,len(X_train),36))) : \n",
    "    plt.subplot(6,6,n+1)\n",
    "    plt.imshow(X_train[i])   \n",
    "    plt.axis('off')\n",
    "    plt.title(get_letter(y_train[i]))"
   ]
  },
  {
   "cell_type": "code",
   "execution_count": null,
   "metadata": {},
   "outputs": [],
   "source": [
    "# Read all images in test folder and convert it into array for 26 categories\n",
    "X_test =[]\n",
    "y_test =[]\n",
    "for folder in os.listdir(test_path):\n",
    "    images = gb.glob(pathname= str(test_path + folder + '/*.png'))\n",
    "    for img in images:\n",
    "        image = cv2.imread(img, cv2.IMREAD_GRAYSCALE)\n",
    "        X_test.append(list(image))\n",
    "        y_test.append(categories[folder])"
   ]
  },
  {
   "cell_type": "code",
   "execution_count": null,
   "metadata": {},
   "outputs": [],
   "source": [
    "# Display random images in X_test  using y value for title\n",
    "plt.figure(figsize=(20,20))\n",
    "for n , i in enumerate(list(np.random.randint(0,len(X_test),36))) : \n",
    "    plt.subplot(6,6,n+1)\n",
    "    plt.imshow(X_test[i])   \n",
    "    plt.axis('off')\n",
    "    plt.title(get_letter(y_test[i]))"
   ]
  },
  {
   "cell_type": "code",
   "execution_count": null,
   "metadata": {},
   "outputs": [],
   "source": [
    "X_pred = []\n",
    "images = gb.glob(pathname= str(pred_path + '/*.png'))\n",
    "\n",
    "for img in images: \n",
    "    image = cv2.imread(img, cv2.IMREAD_GRAYSCALE)\n",
    "    image_array = cv2.resize(image , (28,28))   \n",
    "    X_pred.append(list(image_array))"
   ]
  },
  {
   "cell_type": "code",
   "execution_count": null,
   "metadata": {},
   "outputs": [],
   "source": [
    "print(f'we have {len(X_pred)} items in X_pred')"
   ]
  },
  {
   "cell_type": "code",
   "execution_count": null,
   "metadata": {},
   "outputs": [],
   "source": [
    "plt.figure(figsize=(20,20))\n",
    "for n , i in enumerate(list(np.random.randint(0,len(X_pred),36))) : \n",
    "    plt.subplot(6,6,n+1)\n",
    "    plt.imshow(X_pred[i])    \n",
    "    plt.axis('off')"
   ]
  },
  {
   "source": [
    "## . Building The CNN Model "
   ],
   "cell_type": "markdown",
   "metadata": {}
  },
  {
   "cell_type": "code",
   "execution_count": null,
   "metadata": {},
   "outputs": [],
   "source": [
    "#Convert the data into array using numpy\n",
    "X_train = np.array(X_train).reshape(-1,28,28,1)\n",
    "X_test = np.array(X_test).reshape(-1,28,28,1)\n",
    "\n",
    "y_train = np.array(y_train)\n",
    "y_test = np.array(y_test)\n",
    "X_pred = np.array(X_pred).reshape(-1,28,28,1)"
   ]
  },
  {
   "cell_type": "code",
   "execution_count": null,
   "metadata": {},
   "outputs": [],
   "source": [
    "print(f'X_train shape  is {X_train.shape}')\n",
    "print(f'X_test shape  is {X_test.shape}')\n",
    "\n",
    "print(f'y_train shape  is {y_train.shape}')\n",
    "print(f'y_test shape  is {y_test.shape}')\n",
    "print(f'X_pred shape  is {X_pred.shape}')"
   ]
  },
  {
   "cell_type": "code",
   "execution_count": null,
   "metadata": {},
   "outputs": [],
   "source": [
    "cnn_model = keras.models.Sequential([\n",
    "        keras.layers.Conv2D(filters = 32, kernel_size = (5,5),padding = 'Same', activation ='relu', input_shape = (28,28,1)),\n",
    "        keras.layers.Conv2D(filters = 32, kernel_size = (5,5),padding = 'Same', activation ='relu'),\n",
    "        keras.layers.MaxPool2D(pool_size=(2,2)),\n",
    "        keras.layers.Dropout(rate=0.25),\n",
    "\n",
    "        keras.layers.Conv2D(filters = 64, kernel_size = (3,3),padding = 'Same', activation ='relu'),    \n",
    "        keras.layers.Conv2D(filters = 64, kernel_size = (3,3),padding = 'Same', activation ='relu'),    \n",
    "        keras.layers.MaxPool2D(pool_size=(2,2), strides=(2,2)),\n",
    "        keras.layers.Dropout(rate=0.25),\n",
    "\n",
    "        keras.layers.Flatten() ,    \n",
    "        keras.layers.Dense(256, activation = \"relu\") ,   \n",
    "        keras.layers.Dropout(rate=0.5), \n",
    "               \n",
    "                   \n",
    "        keras.layers.Dense(26,activation='softmax')    \n",
    "        ])"
   ]
  },
  {
   "cell_type": "code",
   "execution_count": null,
   "metadata": {},
   "outputs": [],
   "source": [
    "# Define the optimizer\n",
    "# optimizer = RMSprop(lr=0.001, rho=0.9, epsilon=1e-08, decay=0.0)\n",
    "\n",
    "cnn_model.compile(optimizer = 'adam' , loss = \"sparse_categorical_crossentropy\", metrics=[\"accuracy\"])\n",
    "\n"
   ]
  },
  {
   "cell_type": "code",
   "execution_count": null,
   "metadata": {},
   "outputs": [],
   "source": [
    "print('Model Details are : ')\n",
    "print(cnn_model.summary())"
   ]
  },
  {
   "source": [
    "## . Training Model"
   ],
   "cell_type": "markdown",
   "metadata": {}
  },
  {
   "cell_type": "code",
   "execution_count": null,
   "metadata": {},
   "outputs": [],
   "source": [
    "epochs = 6\n",
    "final_model = cnn_model.fit(X_train, y_train, epochs=epochs, batch_size= 64, verbose=1)\n"
   ]
  },
  {
   "cell_type": "code",
   "execution_count": null,
   "metadata": {},
   "outputs": [],
   "source": [
    "#save model \n",
    "cnn_model.save('../cnn_model/cnn_model_v2.model')"
   ]
  },
  {
   "cell_type": "code",
   "execution_count": null,
   "metadata": {},
   "outputs": [],
   "source": [
    "ModelLoss, ModelAccuracy =cnn_model.evaluate(X_test, y_test)\n",
    "\n",
    "print('Test Loss is {}'.format(ModelLoss))\n",
    "print('Test Accuracy is {}'.format(ModelAccuracy ))"
   ]
  },
  {
   "cell_type": "code",
   "execution_count": null,
   "metadata": {},
   "outputs": [],
   "source": [
    "new_cnn_model =  keras.models.load_model('../cnn_model/cnn_model_v2.model') \n",
    "\n",
    "y_pred = new_cnn_model.predict(X_pred)\n",
    "\n",
    "\n"
   ]
  },
  {
   "cell_type": "code",
   "execution_count": null,
   "metadata": {},
   "outputs": [],
   "source": [
    "plt.figure(figsize=(20,20))\n",
    "for n , i in enumerate(list(np.random.randint(0,len(X_pred),25))) : \n",
    "    plt.subplot(5,5,n+1) \n",
    "    plt.imshow(X_pred[i])    \n",
    "    plt.axis('off')\n",
    "    plt.title(get_letter(np.argmax(y_pred[i])))"
   ]
  },
  {
   "cell_type": "code",
   "execution_count": null,
   "metadata": {},
   "outputs": [],
   "source": [
    "\n",
    "image_path = '../data/predict/O-1.png'\n",
    "image_pred = []\n",
    "\n",
    "image = cv2.imread(image_path)\n",
    "image_pred = cv2.cvtColor(image, cv2.COLOR_BGR2GRAY)\n",
    "# image_pred = cv2.resize(image , (28,28))\n",
    "plt.imshow(image_pred)   \n",
    "\n",
    "image_pred = np.array(image_pred).reshape(1,28,28,1)\n"
   ]
  },
  {
   "cell_type": "code",
   "execution_count": null,
   "metadata": {},
   "outputs": [],
   "source": [
    "print(f'image_pred shape  is {image_pred.shape}')\n"
   ]
  },
  {
   "cell_type": "code",
   "execution_count": null,
   "metadata": {},
   "outputs": [],
   "source": [
    "result = new_cnn_model.predict(image_pred)\n",
    "print(np.argmax(result))\n",
    "plt.imshow(image_pred[0])    \n",
    "plt.axis('off')\n",
    "\n",
    "plt.title(get_letter(np.argmax(result)))"
   ]
  },
  {
   "cell_type": "code",
   "execution_count": null,
   "metadata": {},
   "outputs": [],
   "source": [
    "print(result)"
   ]
  },
  {
   "cell_type": "code",
   "execution_count": null,
   "metadata": {},
   "outputs": [],
   "source": [
    "from tensorflow.python.client import device_lib\n",
    "print(device_lib.list_local_devices())"
   ]
  },
  {
   "cell_type": "code",
   "execution_count": null,
   "metadata": {},
   "outputs": [],
   "source": []
  }
 ]
}